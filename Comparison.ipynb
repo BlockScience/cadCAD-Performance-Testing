{
 "cells": [
  {
   "cell_type": "code",
   "execution_count": 1,
   "metadata": {},
   "outputs": [
    {
     "name": "stderr",
     "output_type": "stream",
     "text": [
      "/Users/seanmcowen/opt/anaconda3/envs/Aztec/lib/python3.11/site-packages/tqdm/auto.py:21: TqdmWarning: IProgress not found. Please update jupyter and ipywidgets. See https://ipywidgets.readthedocs.io/en/stable/user_install.html\n",
      "  from .autonotebook import tqdm as notebook_tqdm\n"
     ]
    }
   ],
   "source": [
    "from copy import deepcopy\n",
    "import os\n",
    "from model.run import run, load_config, add_config"
   ]
  },
  {
   "cell_type": "code",
   "execution_count": 2,
   "metadata": {},
   "outputs": [
    {
     "name": "stdout",
     "output_type": "stream",
     "text": [
      "\n",
      "                  ___________    ____\n",
      "  ________ __ ___/ / ____/   |  / __ \\\n",
      " / ___/ __` / __  / /   / /| | / / / /\n",
      "/ /__/ /_/ / /_/ / /___/ ___ |/ /_/ /\n",
      "\\___/\\__,_/\\__,_/\\____/_/  |_/_____/\n",
      "by cadCAD\n",
      "\n",
      "cadCAD Version: 0.5.3\n",
      "Execution Mode: local_proc\n",
      "Simulation Dimensions:\n",
      "Entire Simulation: (Models, Unique Timesteps, Params, Total Runs, Sub-States) = (1, 1000, 3, 1, 2)\n",
      "     Simulation 0: (Timesteps, Params, Runs, Sub-States) = (1000, 3, 1, 2)\n"
     ]
    },
    {
     "name": "stderr",
     "output_type": "stream",
     "text": [
      "Initializing configurations: 100%|██████████| 1/1 [00:00<00:00, 260.55it/s]\n"
     ]
    },
    {
     "name": "stdout",
     "output_type": "stream",
     "text": [
      "Execution Method: single_proc_exec\n"
     ]
    },
    {
     "name": "stderr",
     "output_type": "stream",
     "text": [
      "Flattening results:   0%|          | 1/1001 [00:00<00:02, 416.31it/s]"
     ]
    },
    {
     "name": "stdout",
     "output_type": "stream",
     "text": [
      "Total execution time: 0.04s\n"
     ]
    },
    {
     "name": "stderr",
     "output_type": "stream",
     "text": [
      "\n"
     ]
    }
   ],
   "source": [
    "MC = 1\n",
    "T = 1000\n",
    "params = {\n",
    "    \"Sample Mean\": 100,\n",
    "    \"Sample Standard Deviation\": 20,\n",
    "    \"Rolling Mean Window\": 10,\n",
    "}\n",
    "state = {\n",
    "    \"Current Mean\": 0,\n",
    "    \"Sample Queue\": [],\n",
    "}\n",
    "\n",
    "exp = load_config(MC, T, params, state)\n",
    "raw = run(exp, disable_deepcopy=True)"
   ]
  },
  {
   "cell_type": "code",
   "execution_count": 5,
   "metadata": {},
   "outputs": [
    {
     "name": "stdout",
     "output_type": "stream",
     "text": [
      "\n",
      "                  ___________    ____\n",
      "  ________ __ ___/ / ____/   |  / __ \\\n",
      " / ___/ __` / __  / /   / /| | / / / /\n",
      "/ /__/ /_/ / /_/ / /___/ ___ |/ /_/ /\n",
      "\\___/\\__,_/\\__,_/\\____/_/  |_/_____/\n",
      "by cadCAD\n",
      "\n",
      "cadCAD Version: 0.5.3\n",
      "Execution Mode: local_proc\n",
      "Simulation Dimensions:\n",
      "Entire Simulation: (Models, Unique Timesteps, Params, Total Runs, Sub-States) = (1, 10000, 3, 1, 2)\n",
      "     Simulation 0: (Timesteps, Params, Runs, Sub-States) = (10000, 3, 1, 2)\n"
     ]
    },
    {
     "name": "stderr",
     "output_type": "stream",
     "text": [
      "Initializing configurations: 100%|██████████| 1/1 [00:00<00:00, 538.15it/s]\n"
     ]
    },
    {
     "name": "stdout",
     "output_type": "stream",
     "text": [
      "Execution Method: single_proc_exec\n"
     ]
    },
    {
     "name": "stderr",
     "output_type": "stream",
     "text": [
      "Flattening results:   0%|          | 1/10001 [00:00<00:15, 651.49it/s]"
     ]
    },
    {
     "name": "stdout",
     "output_type": "stream",
     "text": [
      "Total execution time: 0.17s\n"
     ]
    },
    {
     "name": "stderr",
     "output_type": "stream",
     "text": [
      "\n"
     ]
    }
   ],
   "source": [
    "MC = 1\n",
    "T = 10000\n",
    "params = {\n",
    "    \"Sample Mean\": 100,\n",
    "    \"Sample Standard Deviation\": 20,\n",
    "    \"Rolling Mean Window\": 1000,\n",
    "}\n",
    "state = {\n",
    "    \"Current Mean\": 0,\n",
    "    \"Sample Queue\": [],\n",
    "}\n",
    "\n",
    "exp = load_config(MC, T, params, state)\n",
    "raw = run(exp, disable_deepcopy=True)"
   ]
  },
  {
   "cell_type": "code",
   "execution_count": 6,
   "metadata": {},
   "outputs": [
    {
     "name": "stdout",
     "output_type": "stream",
     "text": [
      "\n",
      "                  ___________    ____\n",
      "  ________ __ ___/ / ____/   |  / __ \\\n",
      " / ___/ __` / __  / /   / /| | / / / /\n",
      "/ /__/ /_/ / /_/ / /___/ ___ |/ /_/ /\n",
      "\\___/\\__,_/\\__,_/\\____/_/  |_/_____/\n",
      "by cadCAD\n",
      "\n",
      "cadCAD Version: 0.5.3\n",
      "Execution Mode: local_proc\n",
      "Simulation Dimensions:\n",
      "Entire Simulation: (Models, Unique Timesteps, Params, Total Runs, Sub-States) = (1, 10000, 3, 5, 2)\n",
      "     Simulation 0: (Timesteps, Params, Runs, Sub-States) = (10000, 3, 5, 2)\n"
     ]
    },
    {
     "name": "stderr",
     "output_type": "stream",
     "text": [
      "Initializing configurations: 100%|██████████| 5/5 [00:00<00:00, 921.14it/s]"
     ]
    },
    {
     "name": "stdout",
     "output_type": "stream",
     "text": [
      "Execution Method: parallelize_simulations\n"
     ]
    },
    {
     "name": "stderr",
     "output_type": "stream",
     "text": [
      "\n",
      "Flattening results: 100%|██████████| 5/5 [00:00<00:00, 228.76it/s]"
     ]
    },
    {
     "name": "stdout",
     "output_type": "stream",
     "text": [
      "Total execution time: 59.38s\n"
     ]
    },
    {
     "name": "stderr",
     "output_type": "stream",
     "text": [
      "\n"
     ]
    }
   ],
   "source": [
    "MC = 5\n",
    "T = 10000\n",
    "params = {\n",
    "    \"Sample Mean\": 100,\n",
    "    \"Sample Standard Deviation\": 20,\n",
    "    \"Rolling Mean Window\": 1000,\n",
    "}\n",
    "state = {\n",
    "    \"Current Mean\": 0,\n",
    "    \"Sample Queue\": [],\n",
    "}\n",
    "\n",
    "exp = load_config(MC, T, params, state)\n",
    "raw = run(exp, disable_deepcopy=True)"
   ]
  },
  {
   "cell_type": "code",
   "execution_count": 6,
   "metadata": {},
   "outputs": [
    {
     "data": {
      "text/html": [
       "<div>\n",
       "<style scoped>\n",
       "    .dataframe tbody tr th:only-of-type {\n",
       "        vertical-align: middle;\n",
       "    }\n",
       "\n",
       "    .dataframe tbody tr th {\n",
       "        vertical-align: top;\n",
       "    }\n",
       "\n",
       "    .dataframe thead th {\n",
       "        text-align: right;\n",
       "    }\n",
       "</style>\n",
       "<table border=\"1\" class=\"dataframe\">\n",
       "  <thead>\n",
       "    <tr style=\"text-align: right;\">\n",
       "      <th></th>\n",
       "      <th>Current Mean</th>\n",
       "      <th>Sample Queue</th>\n",
       "      <th>simulation</th>\n",
       "      <th>subset</th>\n",
       "      <th>run</th>\n",
       "      <th>substep</th>\n",
       "      <th>timestep</th>\n",
       "    </tr>\n",
       "  </thead>\n",
       "  <tbody>\n",
       "    <tr>\n",
       "      <th>0</th>\n",
       "      <td>0.000000</td>\n",
       "      <td>[97.17202062647549, 65.19740502485156, 82.8774...</td>\n",
       "      <td>0</td>\n",
       "      <td>0</td>\n",
       "      <td>1</td>\n",
       "      <td>0</td>\n",
       "      <td>0</td>\n",
       "    </tr>\n",
       "    <tr>\n",
       "      <th>1</th>\n",
       "      <td>97.172021</td>\n",
       "      <td>[97.17202062647549, 65.19740502485156, 82.8774...</td>\n",
       "      <td>0</td>\n",
       "      <td>0</td>\n",
       "      <td>1</td>\n",
       "      <td>1</td>\n",
       "      <td>1</td>\n",
       "    </tr>\n",
       "    <tr>\n",
       "      <th>2</th>\n",
       "      <td>81.184713</td>\n",
       "      <td>[97.17202062647549, 65.19740502485156, 82.8774...</td>\n",
       "      <td>0</td>\n",
       "      <td>0</td>\n",
       "      <td>1</td>\n",
       "      <td>1</td>\n",
       "      <td>2</td>\n",
       "    </tr>\n",
       "    <tr>\n",
       "      <th>3</th>\n",
       "      <td>81.748968</td>\n",
       "      <td>[97.17202062647549, 65.19740502485156, 82.8774...</td>\n",
       "      <td>0</td>\n",
       "      <td>0</td>\n",
       "      <td>1</td>\n",
       "      <td>1</td>\n",
       "      <td>3</td>\n",
       "    </tr>\n",
       "    <tr>\n",
       "      <th>4</th>\n",
       "      <td>96.518751</td>\n",
       "      <td>[97.17202062647549, 65.19740502485156, 82.8774...</td>\n",
       "      <td>0</td>\n",
       "      <td>0</td>\n",
       "      <td>1</td>\n",
       "      <td>1</td>\n",
       "      <td>4</td>\n",
       "    </tr>\n",
       "    <tr>\n",
       "      <th>...</th>\n",
       "      <td>...</td>\n",
       "      <td>...</td>\n",
       "      <td>...</td>\n",
       "      <td>...</td>\n",
       "      <td>...</td>\n",
       "      <td>...</td>\n",
       "      <td>...</td>\n",
       "    </tr>\n",
       "    <tr>\n",
       "      <th>9996</th>\n",
       "      <td>100.167230</td>\n",
       "      <td>[97.17202062647549, 65.19740502485156, 82.8774...</td>\n",
       "      <td>0</td>\n",
       "      <td>0</td>\n",
       "      <td>1</td>\n",
       "      <td>1</td>\n",
       "      <td>9996</td>\n",
       "    </tr>\n",
       "    <tr>\n",
       "      <th>9997</th>\n",
       "      <td>100.168355</td>\n",
       "      <td>[97.17202062647549, 65.19740502485156, 82.8774...</td>\n",
       "      <td>0</td>\n",
       "      <td>0</td>\n",
       "      <td>1</td>\n",
       "      <td>1</td>\n",
       "      <td>9997</td>\n",
       "    </tr>\n",
       "    <tr>\n",
       "      <th>9998</th>\n",
       "      <td>100.169081</td>\n",
       "      <td>[97.17202062647549, 65.19740502485156, 82.8774...</td>\n",
       "      <td>0</td>\n",
       "      <td>0</td>\n",
       "      <td>1</td>\n",
       "      <td>1</td>\n",
       "      <td>9998</td>\n",
       "    </tr>\n",
       "    <tr>\n",
       "      <th>9999</th>\n",
       "      <td>100.165633</td>\n",
       "      <td>[97.17202062647549, 65.19740502485156, 82.8774...</td>\n",
       "      <td>0</td>\n",
       "      <td>0</td>\n",
       "      <td>1</td>\n",
       "      <td>1</td>\n",
       "      <td>9999</td>\n",
       "    </tr>\n",
       "    <tr>\n",
       "      <th>10000</th>\n",
       "      <td>100.166349</td>\n",
       "      <td>[97.17202062647549, 65.19740502485156, 82.8774...</td>\n",
       "      <td>0</td>\n",
       "      <td>0</td>\n",
       "      <td>1</td>\n",
       "      <td>1</td>\n",
       "      <td>10000</td>\n",
       "    </tr>\n",
       "  </tbody>\n",
       "</table>\n",
       "<p>10001 rows × 7 columns</p>\n",
       "</div>"
      ],
      "text/plain": [
       "       Current Mean                                       Sample Queue  \\\n",
       "0          0.000000  [97.17202062647549, 65.19740502485156, 82.8774...   \n",
       "1         97.172021  [97.17202062647549, 65.19740502485156, 82.8774...   \n",
       "2         81.184713  [97.17202062647549, 65.19740502485156, 82.8774...   \n",
       "3         81.748968  [97.17202062647549, 65.19740502485156, 82.8774...   \n",
       "4         96.518751  [97.17202062647549, 65.19740502485156, 82.8774...   \n",
       "...             ...                                                ...   \n",
       "9996     100.167230  [97.17202062647549, 65.19740502485156, 82.8774...   \n",
       "9997     100.168355  [97.17202062647549, 65.19740502485156, 82.8774...   \n",
       "9998     100.169081  [97.17202062647549, 65.19740502485156, 82.8774...   \n",
       "9999     100.165633  [97.17202062647549, 65.19740502485156, 82.8774...   \n",
       "10000    100.166349  [97.17202062647549, 65.19740502485156, 82.8774...   \n",
       "\n",
       "       simulation  subset  run  substep  timestep  \n",
       "0               0       0    1        0         0  \n",
       "1               0       0    1        1         1  \n",
       "2               0       0    1        1         2  \n",
       "3               0       0    1        1         3  \n",
       "4               0       0    1        1         4  \n",
       "...           ...     ...  ...      ...       ...  \n",
       "9996            0       0    1        1      9996  \n",
       "9997            0       0    1        1      9997  \n",
       "9998            0       0    1        1      9998  \n",
       "9999            0       0    1        1      9999  \n",
       "10000           0       0    1        1     10000  \n",
       "\n",
       "[10001 rows x 7 columns]"
      ]
     },
     "execution_count": 6,
     "metadata": {},
     "output_type": "execute_result"
    }
   ],
   "source": [
    "raw"
   ]
  },
  {
   "cell_type": "code",
   "execution_count": null,
   "metadata": {},
   "outputs": [],
   "source": []
  }
 ],
 "metadata": {
  "kernelspec": {
   "display_name": "Aztec",
   "language": "python",
   "name": "python3"
  },
  "language_info": {
   "codemirror_mode": {
    "name": "ipython",
    "version": 3
   },
   "file_extension": ".py",
   "mimetype": "text/x-python",
   "name": "python",
   "nbconvert_exporter": "python",
   "pygments_lexer": "ipython3",
   "version": "3.11.8"
  }
 },
 "nbformat": 4,
 "nbformat_minor": 2
}
