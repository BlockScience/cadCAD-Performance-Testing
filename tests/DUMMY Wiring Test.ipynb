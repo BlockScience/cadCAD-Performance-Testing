{
 "cells": [
  {
   "cell_type": "markdown",
   "metadata": {},
   "source": [
    "# Dummy Wiring Test\n",
    "\n",
    "This notebook is meant to show how to construct a very basic test of a wiring to ensure that it properly works."
   ]
  },
  {
   "cell_type": "code",
   "execution_count": 1,
   "metadata": {},
   "outputs": [],
   "source": [
    "import sys\n",
    "import os\n",
    "\n",
    "sys.path.append(os.path.abspath('..'))\n",
    "\n",
    "\n",
    "from simulation import params_base, state_base, compute_starting_total_length, check_d_probability\n",
    "\n",
    "from math_spec_mapping import load_from_json\n",
    "\n",
    "\"\"\"# For development purposes\n",
    "sys.path.append(os.path.abspath('../..'))\n",
    "from MSML.src.math_spec_mapping import (load_from_json)\"\"\"\n",
    "\n",
    "from copy import deepcopy\n",
    "from src import math_spec_json\n",
    "\n",
    "ms = load_from_json(deepcopy(math_spec_json))\n",
    "\n",
    "msi = ms.build_implementation(params_base)"
   ]
  },
  {
   "cell_type": "code",
   "execution_count": 2,
   "metadata": {},
   "outputs": [
    {
     "name": "stdout",
     "output_type": "stream",
     "text": [
      "['DUMMY Length-1 DEF Control Action', 'DUMMY Letter Count Policy', 'DUMMY State Update Mechanisms', 'DUMMY Log Simulation Data Mechanism']\n",
      "['DUMMY Update Dummy Entity Mechanism', 'DUMMY Increment Time Mechanism']\n"
     ]
    }
   ],
   "source": [
    "# Print out the components to remind us what the DUMMY Control Wiring is comprised of\n",
    "print([x.name for x in ms.wiring[\"DUMMY Control Wiring\"].components])\n",
    "\n",
    "# As well as the nested wiring of DUMMY State Update Mechanisms\n",
    "print([x.name for x in ms.wiring[\"DUMMY State Update Mechanisms\"].components])"
   ]
  },
  {
   "cell_type": "code",
   "execution_count": 3,
   "metadata": {},
   "outputs": [
    {
     "name": "stdout",
     "output_type": "stream",
     "text": [
      "Starting spaces: []\n",
      "Starting state: {'Dummy': {'Words': '', 'Total Length': 0}, 'Time': 0, 'Simulation Log': [], 'Stateful Metrics': {'DUMMY Nominal Length Stateful Metric': <function dummy_metric at 0x135a74540>}, 'Metrics': {'DUMMY Multiplied Length Metric': <function dummy_multiplied_length_metric at 0x135a747c0>}}\n",
      "\n",
      "\n",
      "Spaces after DUMMY Length-1 DEF Control Action: [{'string': 'D'}]\n",
      "\n",
      "\n",
      "Spaces after DUMMY Letter Count Policy: [{'string': 'D', 'unique_length': 1, 'length': 3}]\n",
      "\n",
      "\n",
      "Spaces after DUMMY State Update Mechanisms: []\n",
      "State after DUMMY State Update Mechanisms: {'Dummy': {'Words': 'D', 'Total Length': 3}, 'Time': 1, 'Simulation Log': [], 'Stateful Metrics': {'DUMMY Nominal Length Stateful Metric': <function dummy_metric at 0x135a74540>}, 'Metrics': {'DUMMY Multiplied Length Metric': <function dummy_multiplied_length_metric at 0x135a747c0>}}\n",
      "\n",
      "\n",
      "Spaces after DUMMY Log Simulation Data Mechanism: None\n",
      "State after DUMMY Log Simulation Data Mechanism: {'Dummy': {'Words': 'D', 'Total Length': 3}, 'Time': 1, 'Simulation Log': [{'Time': 1, 'Word': 'D', 'Length (Multiplied)': 3}], 'Stateful Metrics': {'DUMMY Nominal Length Stateful Metric': <function dummy_metric at 0x135a74540>}, 'Metrics': {'DUMMY Multiplied Length Metric': <function dummy_multiplied_length_metric at 0x135a747c0>}}\n",
      "\n",
      "\n"
     ]
    }
   ],
   "source": [
    "# Set the randomness to ensure the same outcome each time from random parts\n",
    "from random import seed\n",
    "seed(1)\n",
    "\n",
    "# Set the state and parameters\n",
    "state, params = msi.prepare_state_and_params(state_base, params_base,\n",
    "                                             state_preperation_functions=[compute_starting_total_length],\n",
    "                                             parameter_preperation_functions=[check_d_probability])\n",
    "\n",
    "# Iterate through each component\n",
    "spaces = []\n",
    "print(\"Starting spaces: {}\".format(spaces))\n",
    "print(\"Starting state: {}\".format(state))\n",
    "print()\n",
    "print()\n",
    "spaces = msi.components[\"DUMMY Length-1 DEF Control Action\"](state, params, spaces)\n",
    "print(\"Spaces after DUMMY Length-1 DEF Control Action: {}\".format(spaces))\n",
    "print()\n",
    "print()\n",
    "assert spaces == [{'string': 'D'}]\n",
    "spaces = msi.components[\"DUMMY Letter Count Policy\"](state, params, spaces)\n",
    "print(\"Spaces after DUMMY Letter Count Policy: {}\".format(spaces))\n",
    "print()\n",
    "print()\n",
    "assert spaces == [{'string': 'D', 'unique_length': 1, 'length': 3}]\n",
    "spaces = msi.components[\"DUMMY State Update Mechanisms\"](state, params, spaces)\n",
    "print(\"Spaces after DUMMY State Update Mechanisms: {}\".format(spaces))\n",
    "print(\"State after DUMMY State Update Mechanisms: {}\".format(state))\n",
    "print()\n",
    "print()\n",
    "assert spaces == []\n",
    "assert state[\"Dummy\"] == {'Words': 'D', 'Total Length': 3}\n",
    "assert state[\"Time\"] == 1\n",
    "assert state[\"Simulation Log\"] == []\n",
    "spaces = msi.components[\"DUMMY Log Simulation Data Mechanism\"](state, params, spaces)\n",
    "print(\"Spaces after DUMMY Log Simulation Data Mechanism: {}\".format(spaces))\n",
    "print(\"State after DUMMY Log Simulation Data Mechanism: {}\".format(state))\n",
    "print()\n",
    "print()\n",
    "assert spaces == None\n",
    "assert state[\"Dummy\"] == {'Words': 'D', 'Total Length': 3}\n",
    "assert state[\"Time\"] == 1\n",
    "assert state[\"Simulation Log\"] == [{'Time': 1, 'Word': 'D', 'Length (Multiplied)': 3}]"
   ]
  },
  {
   "cell_type": "code",
   "execution_count": 4,
   "metadata": {},
   "outputs": [],
   "source": [
    "# Do the same but just for the entire wiring being run\n",
    "\n",
    "# Set the randomness to ensure the same outcome each time from random parts\n",
    "from random import seed\n",
    "seed(1)\n",
    "\n",
    "# Set the state and parameters\n",
    "state, params = msi.prepare_state_and_params(state_base, params_base,\n",
    "                                             state_preperation_functions=[compute_starting_total_length],\n",
    "                                             parameter_preperation_functions=[check_d_probability])\n",
    "\n",
    "spaces = []\n",
    "msi.wiring[\"DUMMY Control Wiring\"](state, params, spaces)\n",
    "assert state[\"Dummy\"] == {'Words': 'D', 'Total Length': 3}\n",
    "assert state[\"Time\"] == 1\n",
    "assert state[\"Simulation Log\"] == [{'Time': 1, 'Word': 'D', 'Length (Multiplied)': 3}]"
   ]
  }
 ],
 "metadata": {
  "kernelspec": {
   "display_name": "Aztec",
   "language": "python",
   "name": "python3"
  },
  "language_info": {
   "codemirror_mode": {
    "name": "ipython",
    "version": 3
   },
   "file_extension": ".py",
   "mimetype": "text/x-python",
   "name": "python",
   "nbconvert_exporter": "python",
   "pygments_lexer": "ipython3",
   "version": "3.11.8"
  }
 },
 "nbformat": 4,
 "nbformat_minor": 2
}
