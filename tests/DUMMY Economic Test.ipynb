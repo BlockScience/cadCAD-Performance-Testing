{
 "cells": [
  {
   "cell_type": "code",
   "execution_count": 1,
   "metadata": {},
   "outputs": [],
   "source": [
    "import sys\n",
    "import os\n",
    "\n",
    "sys.path.append(os.path.abspath('..'))\n",
    "\n",
    "\n",
    "from simulation import (params_test2, params_test1, state_test1, params_base, state_base, compute_starting_total_length, check_d_probability, post_processing_function,\n",
    "                        percent_ending_in_d_metric, average_d_count_metric, plot_length_single_simulation)\n",
    "\n",
    "from math_spec_mapping import load_from_json\n",
    "\n",
    "\"\"\"# For development purposes\n",
    "sys.path.append(os.path.abspath('../..'))\n",
    "from MSML.src.math_spec_mapping import (load_from_json)\"\"\"\n",
    "\n",
    "from copy import deepcopy\n",
    "from src import math_spec_json\n",
    "\n",
    "ms = load_from_json(deepcopy(math_spec_json))\n",
    "\n",
    "blocks = [\"DUMMY Control Wiring\"] * 100\n",
    "\n"
   ]
  },
  {
   "cell_type": "markdown",
   "metadata": {},
   "source": [
    "Time will be 200 instead of 100 for the first two experiments because of the test state setting as starting at time = 100"
   ]
  },
  {
   "cell_type": "code",
   "execution_count": 2,
   "metadata": {},
   "outputs": [],
   "source": [
    "experiment = {\"Name\": \"Test 1\",\n",
    "               \"Param Modifications\": None,\n",
    "               \"State Modifications\": None,\n",
    "               \"Blocks\": blocks}\n",
    "\n",
    "state, params, msi, df, metrics= ms.run_experiment(experiment,\n",
    "                  params_test1,\n",
    "                  state_test1,\n",
    "                  post_processing_function,\n",
    "                  state_preperation_functions=[compute_starting_total_length],\n",
    "                  parameter_preperation_functions=[check_d_probability],\n",
    "                  metrics_functions=[percent_ending_in_d_metric,\n",
    "                                     average_d_count_metric])\n",
    "\n",
    "assert metrics.to_dict() == {'Percent Ending in D': 1.0, 'Average D Count': 50.5}\n",
    "assert state[\"Time\"] == 200"
   ]
  },
  {
   "cell_type": "code",
   "execution_count": 3,
   "metadata": {},
   "outputs": [],
   "source": [
    "experiment = {\"Name\": \"Test 2\",\n",
    "               \"Param Modifications\": None,\n",
    "               \"State Modifications\": None,\n",
    "               \"Blocks\": blocks}\n",
    "\n",
    "state, params, msi, df, metrics= ms.run_experiment(experiment,\n",
    "                  params_test2,\n",
    "                  state_test1,\n",
    "                  post_processing_function,\n",
    "                  state_preperation_functions=[compute_starting_total_length],\n",
    "                  parameter_preperation_functions=[check_d_probability],\n",
    "                  metrics_functions=[percent_ending_in_d_metric,\n",
    "                                     average_d_count_metric])\n",
    "\n",
    "\n",
    "assert metrics.to_dict() == {'Percent Ending in D': 0, 'Average D Count': 0}\n",
    "assert state[\"Time\"] == 200"
   ]
  },
  {
   "cell_type": "code",
   "execution_count": 4,
   "metadata": {},
   "outputs": [],
   "source": [
    "experiment = {\"Name\": \"Baseline\",\n",
    "               \"Param Modifications\": None,\n",
    "               \"State Modifications\": None,\n",
    "               \"Blocks\": blocks}\n",
    "\n",
    "state, params, msi, df, metrics= ms.run_experiment(experiment,\n",
    "                  params_base,\n",
    "                  state_base,\n",
    "                  post_processing_function,\n",
    "                  state_preperation_functions=[compute_starting_total_length],\n",
    "                  parameter_preperation_functions=[check_d_probability],\n",
    "                  metrics_functions=[percent_ending_in_d_metric,\n",
    "                                     average_d_count_metric])\n",
    "\n",
    "\n",
    "assert metrics.to_dict()['Average D Count'] >= 0 and metrics.to_dict()['Average D Count'] <= 50.5\n",
    "assert state[\"Time\"] == 100"
   ]
  }
 ],
 "metadata": {
  "kernelspec": {
   "display_name": "Aztec",
   "language": "python",
   "name": "python3"
  },
  "language_info": {
   "codemirror_mode": {
    "name": "ipython",
    "version": 3
   },
   "file_extension": ".py",
   "mimetype": "text/x-python",
   "name": "python",
   "nbconvert_exporter": "python",
   "pygments_lexer": "ipython3",
   "version": "3.11.8"
  }
 },
 "nbformat": 4,
 "nbformat_minor": 2
}
