{
 "cells": [
  {
   "cell_type": "code",
   "execution_count": 2,
   "metadata": {},
   "outputs": [
    {
     "name": "stdout",
     "output_type": "stream",
     "text": [
      "     Rolling Mean\n",
      "0      125.695231\n",
      "1      104.804007\n",
      "2      101.514704\n",
      "3      109.578238\n",
      "4      111.435151\n",
      "..            ...\n",
      "995    103.351574\n",
      "996    104.491203\n",
      "997    104.526076\n",
      "998     98.958102\n",
      "999    100.468753\n",
      "\n",
      "[1000 rows x 1 columns]\n"
     ]
    }
   ],
   "source": [
    "import sys\n",
    "import os\n",
    "\n",
    "sys.path.append(os.path.abspath('..'))\n",
    "\n",
    "\n",
    "from simulation import (params_base, state_base, compute_starting_total_length, check_d_probability, post_processing_function,\n",
    "                        percent_ending_in_d_metric, average_d_count_metric, plot_length_single_simulation)\n",
    "\n",
    "from math_spec_mapping import load_from_json\n",
    "\n",
    "\"\"\"# For development purposes\n",
    "sys.path.append(os.path.abspath('../..'))\n",
    "from MSML.src.math_spec_mapping import (load_from_json)\"\"\"\n",
    "\n",
    "from copy import deepcopy\n",
    "from src import math_spec_json\n",
    "\n",
    "ms = load_from_json(deepcopy(math_spec_json))\n",
    "\n",
    "blocks = [\"Sample Wiring\"] * 1000\n",
    "\n",
    "# Define an experiment\n",
    "experiment = {\"Name\": \"Baseline\",\n",
    "               \"Param Modifications\": {},\n",
    "               \"State Modifications\": {},\n",
    "               \"Blocks\": blocks}\n",
    "\n",
    "state, params, msi, df, metrics= ms.run_experiment(experiment,\n",
    "                  params_base,\n",
    "                  state_base,\n",
    "                  post_processing_function,\n",
    "                  state_preperation_functions=[],\n",
    "                  parameter_preperation_functions=[],\n",
    "                  metrics_functions=[])\n",
    "print(df)"
   ]
  }
 ],
 "metadata": {
  "kernelspec": {
   "display_name": "Aztec",
   "language": "python",
   "name": "python3"
  },
  "language_info": {
   "codemirror_mode": {
    "name": "ipython",
    "version": 3
   },
   "file_extension": ".py",
   "mimetype": "text/x-python",
   "name": "python",
   "nbconvert_exporter": "python",
   "pygments_lexer": "ipython3",
   "version": "3.11.8"
  }
 },
 "nbformat": 4,
 "nbformat_minor": 2
}
