{
 "cells": [
  {
   "cell_type": "markdown",
   "metadata": {},
   "source": [
    "# Implementation Playground"
   ]
  },
  {
   "cell_type": "code",
   "execution_count": 1,
   "metadata": {},
   "outputs": [
    {
     "name": "stdout",
     "output_type": "stream",
     "text": [
      "{'Dummy': {'Words': '', 'Total Length': None}, 'Time': 0, 'Simulation Log': [], 'Current Mean': 0, 'Sample Queue': [], 'Stateful Metrics': {'DUMMY Nominal Length Stateful Metric': <function dummy_metric at 0x137adbce0>}, 'Metrics': {'DUMMY Multiplied Length Metric': <function dummy_multiplied_length_metric at 0x137adbf60>}}\n",
      "[{'sample': 117.816609046662}]\n",
      "[{'mean': 117.816609046662}, {'sample_queue': [117.816609046662]}]\n",
      "{'Dummy': {'Words': '', 'Total Length': None}, 'Time': 0, 'Simulation Log': [{'Rolling Mean': 117.816609046662}], 'Current Mean': 117.816609046662, 'Sample Queue': [117.816609046662], 'Stateful Metrics': {'DUMMY Nominal Length Stateful Metric': <function dummy_metric at 0x137adbce0>}, 'Metrics': {'DUMMY Multiplied Length Metric': <function dummy_multiplied_length_metric at 0x137adbf60>}}\n"
     ]
    }
   ],
   "source": [
    "import sys\n",
    "import os\n",
    "\n",
    "sys.path.append(os.path.abspath('..'))\n",
    "\n",
    "\n",
    "from simulation import params_base, state_base, compute_starting_total_length, check_d_probability\n",
    "\n",
    "from math_spec_mapping import load_from_json\n",
    "\n",
    "\"\"\"# For development purposes\n",
    "sys.path.append(os.path.abspath('../..'))\n",
    "from MSML.src.math_spec_mapping import (load_from_json)\"\"\"\n",
    "\n",
    "from copy import deepcopy\n",
    "from src import math_spec_json\n",
    "\n",
    "ms = load_from_json(deepcopy(math_spec_json))\n",
    "\n",
    "msi = ms.build_implementation(params_base)\n",
    "state, params = msi.prepare_state_and_params(state_base, params_base,\n",
    "                                             state_preperation_functions=[],\n",
    "                                             parameter_preperation_functions=[])\n",
    "print(state)\n",
    "spaces = []\n",
    "spaces = msi.components[\"Add New Sample Control Action\"](state, params, spaces)\n",
    "print(spaces)\n",
    "spaces = msi.components[\"Update Rolling Mean Policy\"](state, params, spaces)\n",
    "print(spaces)\n",
    "msi.components[\"Update Mean Mechanism\"](state, params, spaces[:1])\n",
    "msi.components[\"Update Queue Mechanism\"](state, params, spaces[1:])\n",
    "msi.components[\"Log Simulation Data Mechanism\"](state, params, [])\n",
    "print(state)"
   ]
  },
  {
   "cell_type": "code",
   "execution_count": 6,
   "metadata": {},
   "outputs": [
    {
     "name": "stdout",
     "output_type": "stream",
     "text": [
      "{'Dummy': {'Words': '', 'Total Length': None}, 'Time': 0, 'Simulation Log': [{'Rolling Mean': 89.1701683310536}], 'Current Mean': 89.1701683310536, 'Sample Queue': [89.1701683310536], 'Stateful Metrics': {'DUMMY Nominal Length Stateful Metric': <function dummy_metric at 0x137adbce0>}, 'Metrics': {'DUMMY Multiplied Length Metric': <function dummy_multiplied_length_metric at 0x137adbf60>}}\n"
     ]
    }
   ],
   "source": [
    "state, params = msi.prepare_state_and_params(state_base, params_base,\n",
    "                                             state_preperation_functions=[],\n",
    "                                             parameter_preperation_functions=[])\n",
    "msi.wiring[\"Sample Wiring\"](state, params, [])\n",
    "print(state)"
   ]
  },
  {
   "cell_type": "code",
   "execution_count": null,
   "metadata": {},
   "outputs": [],
   "source": []
  },
  {
   "cell_type": "code",
   "execution_count": null,
   "metadata": {},
   "outputs": [],
   "source": []
  },
  {
   "cell_type": "code",
   "execution_count": null,
   "metadata": {},
   "outputs": [],
   "source": []
  }
 ],
 "metadata": {
  "kernelspec": {
   "display_name": "Aztec",
   "language": "python",
   "name": "python3"
  },
  "language_info": {
   "codemirror_mode": {
    "name": "ipython",
    "version": 3
   },
   "file_extension": ".py",
   "mimetype": "text/x-python",
   "name": "python",
   "nbconvert_exporter": "python",
   "pygments_lexer": "ipython3",
   "version": "3.11.8"
  }
 },
 "nbformat": 4,
 "nbformat_minor": 2
}
