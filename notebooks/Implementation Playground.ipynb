{
 "cells": [
  {
   "cell_type": "markdown",
   "metadata": {},
   "source": [
    "# Implementation Playground"
   ]
  },
  {
   "cell_type": "code",
   "execution_count": 1,
   "metadata": {},
   "outputs": [],
   "source": [
    "import sys\n",
    "import os\n",
    "\n",
    "sys.path.append(os.path.abspath('..'))\n",
    "\n",
    "\n",
    "from simulation import params_base, state_base, compute_starting_total_length, check_d_probability\n",
    "\n",
    "from math_spec_mapping import load_from_json\n",
    "\n",
    "\"\"\"# For development purposes\n",
    "sys.path.append(os.path.abspath('../..'))\n",
    "from MSML.src.math_spec_mapping import (load_from_json)\"\"\"\n",
    "\n",
    "from copy import deepcopy\n",
    "from src import math_spec_json\n",
    "\n",
    "ms = load_from_json(deepcopy(math_spec_json))\n",
    "\n",
    "msi = ms.build_implementation(params_base)\n",
    "state, params = msi.prepare_state_and_params(state_base, params_base,\n",
    "                                             state_preperation_functions=[compute_starting_total_length],\n",
    "                                             parameter_preperation_functions=[check_d_probability])"
   ]
  },
  {
   "cell_type": "markdown",
   "metadata": {},
   "source": [
    "## Test Out a Control Action"
   ]
  },
  {
   "cell_type": "code",
   "execution_count": 2,
   "metadata": {},
   "outputs": [
    {
     "name": "stdout",
     "output_type": "stream",
     "text": [
      "[{'string': 'E'}]\n"
     ]
    }
   ],
   "source": [
    "spaces = []\n",
    "spaces = msi.components[\"DUMMY Length-1 DEF Control Action\"](state, params, spaces)\n",
    "print(spaces)"
   ]
  },
  {
   "cell_type": "markdown",
   "metadata": {},
   "source": [
    "## Test out a Policy"
   ]
  },
  {
   "cell_type": "code",
   "execution_count": 3,
   "metadata": {},
   "outputs": [
    {
     "name": "stdout",
     "output_type": "stream",
     "text": [
      "[{'string': 'E', 'unique_length': 1, 'length': 3}]\n"
     ]
    }
   ],
   "source": [
    "spaces = [{'string': 'E'}]\n",
    "spaces = msi.components[\"DUMMY Letter Count Policy\"](state, params, spaces)\n",
    "print(spaces)"
   ]
  },
  {
   "cell_type": "markdown",
   "metadata": {},
   "source": [
    "## Combine the Two"
   ]
  },
  {
   "cell_type": "code",
   "execution_count": 4,
   "metadata": {},
   "outputs": [
    {
     "name": "stdout",
     "output_type": "stream",
     "text": [
      "[{'string': 'D', 'unique_length': 1, 'length': 3}]\n"
     ]
    }
   ],
   "source": [
    "spaces = []\n",
    "spaces = msi.components[\"DUMMY Length-1 DEF Control Action\"](state, params, spaces)\n",
    "spaces = msi.components[\"DUMMY Letter Count Policy\"](state, params, spaces)\n",
    "print(spaces)"
   ]
  },
  {
   "cell_type": "markdown",
   "metadata": {},
   "source": [
    "## Test a Mechanism"
   ]
  },
  {
   "cell_type": "code",
   "execution_count": 5,
   "metadata": {},
   "outputs": [
    {
     "name": "stdout",
     "output_type": "stream",
     "text": [
      "State Before:\n",
      "{'Dummy': {'Words': '', 'Total Length': 0}, 'Time': 0, 'Simulation Log': [], 'Stateful Metrics': {'DUMMY Nominal Length Stateful Metric': <function dummy_metric at 0x136f745e0>}, 'Metrics': {'DUMMY Multiplied Length Metric': <function dummy_multiplied_length_metric at 0x136f74860>}}\n",
      "\n",
      "State After:\n",
      "{'Dummy': {'Words': 'F', 'Total Length': 3}, 'Time': 0, 'Simulation Log': [], 'Stateful Metrics': {'DUMMY Nominal Length Stateful Metric': <function dummy_metric at 0x136f745e0>}, 'Metrics': {'DUMMY Multiplied Length Metric': <function dummy_multiplied_length_metric at 0x136f74860>}}\n"
     ]
    }
   ],
   "source": [
    "print(\"State Before:\")\n",
    "print(state)\n",
    "spaces = [{'string': 'F', 'unique_length': 1, 'length': 3}]\n",
    "msi.components[\"DUMMY Update Dummy Entity Mechanism\"](state, params, spaces)\n",
    "print()\n",
    "print(\"State After:\")\n",
    "print(state)"
   ]
  },
  {
   "cell_type": "markdown",
   "metadata": {},
   "source": [
    "## Play with Stateful Metrics & Metrics"
   ]
  },
  {
   "cell_type": "code",
   "execution_count": 6,
   "metadata": {},
   "outputs": [
    {
     "name": "stdout",
     "output_type": "stream",
     "text": [
      "3\n"
     ]
    }
   ],
   "source": [
    "spaces = [{'string': 'E'}]\n",
    "print(state[\"Metrics\"][\"DUMMY Multiplied Length Metric\"](state, params, spaces))"
   ]
  },
  {
   "cell_type": "code",
   "execution_count": 7,
   "metadata": {},
   "outputs": [
    {
     "name": "stdout",
     "output_type": "stream",
     "text": [
      "1\n"
     ]
    }
   ],
   "source": [
    "print(state[\"Stateful Metrics\"][\"DUMMY Nominal Length Stateful Metric\"](state, params))"
   ]
  },
  {
   "cell_type": "markdown",
   "metadata": {},
   "source": [
    "## Run an Entire Wiring\n",
    "\n",
    "Notice here that two new mechanisms also get run, one for incrementing time and one for logging simulation data!"
   ]
  },
  {
   "cell_type": "code",
   "execution_count": 8,
   "metadata": {},
   "outputs": [
    {
     "name": "stdout",
     "output_type": "stream",
     "text": [
      "State Before:\n",
      "{'Dummy': {'Words': '', 'Total Length': 0}, 'Time': 0, 'Simulation Log': [], 'Stateful Metrics': {'DUMMY Nominal Length Stateful Metric': <function dummy_metric at 0x136f745e0>}, 'Metrics': {'DUMMY Multiplied Length Metric': <function dummy_multiplied_length_metric at 0x136f74860>}}\n",
      "\n",
      "State After:\n",
      "{'Dummy': {'Words': 'E', 'Total Length': 3}, 'Time': 1, 'Simulation Log': [{'Time': 1, 'Word': 'E', 'Length (Multiplied)': 3}], 'Stateful Metrics': {'DUMMY Nominal Length Stateful Metric': <function dummy_metric at 0x136f745e0>}, 'Metrics': {'DUMMY Multiplied Length Metric': <function dummy_multiplied_length_metric at 0x136f74860>}}\n"
     ]
    }
   ],
   "source": [
    "# Reset state, params\n",
    "state, params = msi.prepare_state_and_params(state_base, params_base,\n",
    "                                             state_preperation_functions=[compute_starting_total_length],\n",
    "                                             parameter_preperation_functions=[check_d_probability])\n",
    "\n",
    "print(\"State Before:\")\n",
    "print(state)\n",
    "spaces = []\n",
    "msi.wiring[\"DUMMY Control Wiring\"](state, params, spaces)\n",
    "print()\n",
    "print(\"State After:\")\n",
    "print(state)"
   ]
  }
 ],
 "metadata": {
  "kernelspec": {
   "display_name": "Aztec",
   "language": "python",
   "name": "python3"
  },
  "language_info": {
   "codemirror_mode": {
    "name": "ipython",
    "version": 3
   },
   "file_extension": ".py",
   "mimetype": "text/x-python",
   "name": "python",
   "nbconvert_exporter": "python",
   "pygments_lexer": "ipython3",
   "version": "3.11.8"
  }
 },
 "nbformat": 4,
 "nbformat_minor": 2
}
