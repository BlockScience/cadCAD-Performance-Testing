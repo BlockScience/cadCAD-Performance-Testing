{
 "cells": [
  {
   "cell_type": "markdown",
   "metadata": {},
   "source": [
    "# Metaprogamming\n",
    "\n",
    "This notebook shows a work in progress metaprogramming workflow. Eventually it will allows for complete transcribing of an MSML model to a cadCAD model."
   ]
  },
  {
   "cell_type": "code",
   "execution_count": 1,
   "metadata": {},
   "outputs": [],
   "source": [
    "import sys\n",
    "import os\n",
    "\n",
    "sys.path.append(os.path.abspath('..'))\n",
    "\n",
    "\n",
    "from math_spec_mapping import load_from_json\n",
    "\n",
    "\"\"\"# For development purposes\n",
    "sys.path.append(os.path.abspath('../..'))\n",
    "from MSML.src.math_spec_mapping import (load_from_json)\"\"\"\n",
    "\n",
    "from src import math_spec_json\n",
    "from copy import deepcopy\n",
    "ms = load_from_json(deepcopy(math_spec_json))\n",
    "\n",
    "model_folder = \"../model\"\n",
    "ms.metaprogramming_python_types(model_folder, overwrite=True)\n",
    "ms.metaprogramming_python_spaces(model_folder, overwrite=True)\n",
    "ms.metaprogramming_python_states(model_folder, overwrite=True)\n",
    "ms.metaprogramming_python_parameters(model_folder, overwrite=True)\n",
    "ms.metaprogramming_boundary_actions(model_folder, overwrite=True)"
   ]
  }
 ],
 "metadata": {
  "kernelspec": {
   "display_name": "Aztec",
   "language": "python",
   "name": "python3"
  },
  "language_info": {
   "codemirror_mode": {
    "name": "ipython",
    "version": 3
   },
   "file_extension": ".py",
   "mimetype": "text/x-python",
   "name": "python",
   "nbconvert_exporter": "python",
   "pygments_lexer": "ipython3",
   "version": "3.11.8"
  }
 },
 "nbformat": 4,
 "nbformat_minor": 2
}
