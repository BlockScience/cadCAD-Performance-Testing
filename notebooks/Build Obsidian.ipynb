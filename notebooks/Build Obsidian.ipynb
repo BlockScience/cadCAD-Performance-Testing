{
 "cells": [
  {
   "cell_type": "markdown",
   "metadata": {},
   "source": [
    "# Build Obsidian Notebook\n",
    "\n",
    "The following notebook is used to build out the Obsidian markdown files for easily visualizing and understanding the system and its linkages.\n",
    "\n",
    "## Load Functionalities\n",
    "\n",
    "- The code block below loads all necessary code\n",
    "- The appending of a path is for the path to the math_spec_json object. In this case it is a folder up because we call \"from src import math_spec_json\""
   ]
  },
  {
   "cell_type": "code",
   "execution_count": 1,
   "metadata": {},
   "outputs": [
    {
     "ename": "KeyError",
     "evalue": "'Mean Space'",
     "output_type": "error",
     "traceback": [
      "\u001b[0;31m---------------------------------------------------------------------------\u001b[0m",
      "\u001b[0;31mKeyError\u001b[0m                                  Traceback (most recent call last)",
      "Cell \u001b[0;32mIn[1], line 15\u001b[0m\n\u001b[1;32m     13\u001b[0m \u001b[38;5;28;01mfrom\u001b[39;00m \u001b[38;5;21;01msrc\u001b[39;00m \u001b[38;5;28;01mimport\u001b[39;00m math_spec_json\n\u001b[1;32m     14\u001b[0m \u001b[38;5;28;01mfrom\u001b[39;00m \u001b[38;5;21;01mcopy\u001b[39;00m \u001b[38;5;28;01mimport\u001b[39;00m deepcopy\n\u001b[0;32m---> 15\u001b[0m ms \u001b[38;5;241m=\u001b[39m load_from_json(deepcopy(math_spec_json))\n",
      "File \u001b[0;32m~/opt/anaconda3/envs/Aztec/lib/python3.11/site-packages/math_spec_mapping/Load/load.py:52\u001b[0m, in \u001b[0;36mload_from_json\u001b[0;34m(json)\u001b[0m\n\u001b[1;32m     50\u001b[0m state_update_transmission_channels \u001b[38;5;241m=\u001b[39m load_mechanisms(ms, json)\n\u001b[1;32m     51\u001b[0m load_parameters(ms, json)\n\u001b[0;32m---> 52\u001b[0m load_policies(ms, json)\n\u001b[1;32m     53\u001b[0m load_stateful_metrics(ms, json)\n\u001b[1;32m     55\u001b[0m stateful_metrics_map \u001b[38;5;241m=\u001b[39m {}\n",
      "File \u001b[0;32m~/opt/anaconda3/envs/Aztec/lib/python3.11/site-packages/math_spec_mapping/Load/policy.py:94\u001b[0m, in \u001b[0;36mload_policies\u001b[0;34m(ms, json)\u001b[0m\n\u001b[1;32m     92\u001b[0m ms[\u001b[38;5;124m\"\u001b[39m\u001b[38;5;124mPolicies\u001b[39m\u001b[38;5;124m\"\u001b[39m] \u001b[38;5;241m=\u001b[39m {}\n\u001b[1;32m     93\u001b[0m \u001b[38;5;28;01mfor\u001b[39;00m policy \u001b[38;5;129;01min\u001b[39;00m json[\u001b[38;5;124m\"\u001b[39m\u001b[38;5;124mPolicies\u001b[39m\u001b[38;5;124m\"\u001b[39m]:\n\u001b[0;32m---> 94\u001b[0m     ms[\u001b[38;5;124m\"\u001b[39m\u001b[38;5;124mPolicies\u001b[39m\u001b[38;5;124m\"\u001b[39m][policy[\u001b[38;5;124m\"\u001b[39m\u001b[38;5;124mname\u001b[39m\u001b[38;5;124m\"\u001b[39m]] \u001b[38;5;241m=\u001b[39m convert_policy(policy, ms)\n",
      "File \u001b[0;32m~/opt/anaconda3/envs/Aztec/lib/python3.11/site-packages/math_spec_mapping/Load/policy.py:77\u001b[0m, in \u001b[0;36mconvert_policy\u001b[0;34m(data, ms)\u001b[0m\n\u001b[1;32m     74\u001b[0m     policy_options\u001b[38;5;241m.\u001b[39mappend(convert_policy_options(po, ms))\n\u001b[1;32m     75\u001b[0m data[\u001b[38;5;124m\"\u001b[39m\u001b[38;5;124mpolicy_options\u001b[39m\u001b[38;5;124m\"\u001b[39m] \u001b[38;5;241m=\u001b[39m policy_options\n\u001b[0;32m---> 77\u001b[0m data[\u001b[38;5;124m\"\u001b[39m\u001b[38;5;124mcodomain\u001b[39m\u001b[38;5;124m\"\u001b[39m] \u001b[38;5;241m=\u001b[39m \u001b[38;5;28mtuple\u001b[39m(ms[\u001b[38;5;124m\"\u001b[39m\u001b[38;5;124mSpaces\u001b[39m\u001b[38;5;124m\"\u001b[39m][x] \u001b[38;5;28;01mfor\u001b[39;00m x \u001b[38;5;129;01min\u001b[39;00m data[\u001b[38;5;124m\"\u001b[39m\u001b[38;5;124mcodomain\u001b[39m\u001b[38;5;124m\"\u001b[39m])\n\u001b[1;32m     78\u001b[0m data[\u001b[38;5;124m\"\u001b[39m\u001b[38;5;124mdomain\u001b[39m\u001b[38;5;124m\"\u001b[39m] \u001b[38;5;241m=\u001b[39m \u001b[38;5;28mtuple\u001b[39m(ms[\u001b[38;5;124m\"\u001b[39m\u001b[38;5;124mSpaces\u001b[39m\u001b[38;5;124m\"\u001b[39m][x] \u001b[38;5;28;01mfor\u001b[39;00m x \u001b[38;5;129;01min\u001b[39;00m data[\u001b[38;5;124m\"\u001b[39m\u001b[38;5;124mdomain\u001b[39m\u001b[38;5;124m\"\u001b[39m])\n\u001b[1;32m     80\u001b[0m \u001b[38;5;66;03m# Build the policy object\u001b[39;00m\n",
      "File \u001b[0;32m~/opt/anaconda3/envs/Aztec/lib/python3.11/site-packages/math_spec_mapping/Load/policy.py:77\u001b[0m, in \u001b[0;36m<genexpr>\u001b[0;34m(.0)\u001b[0m\n\u001b[1;32m     74\u001b[0m     policy_options\u001b[38;5;241m.\u001b[39mappend(convert_policy_options(po, ms))\n\u001b[1;32m     75\u001b[0m data[\u001b[38;5;124m\"\u001b[39m\u001b[38;5;124mpolicy_options\u001b[39m\u001b[38;5;124m\"\u001b[39m] \u001b[38;5;241m=\u001b[39m policy_options\n\u001b[0;32m---> 77\u001b[0m data[\u001b[38;5;124m\"\u001b[39m\u001b[38;5;124mcodomain\u001b[39m\u001b[38;5;124m\"\u001b[39m] \u001b[38;5;241m=\u001b[39m \u001b[38;5;28mtuple\u001b[39m(ms[\u001b[38;5;124m\"\u001b[39m\u001b[38;5;124mSpaces\u001b[39m\u001b[38;5;124m\"\u001b[39m][x] \u001b[38;5;28;01mfor\u001b[39;00m x \u001b[38;5;129;01min\u001b[39;00m data[\u001b[38;5;124m\"\u001b[39m\u001b[38;5;124mcodomain\u001b[39m\u001b[38;5;124m\"\u001b[39m])\n\u001b[1;32m     78\u001b[0m data[\u001b[38;5;124m\"\u001b[39m\u001b[38;5;124mdomain\u001b[39m\u001b[38;5;124m\"\u001b[39m] \u001b[38;5;241m=\u001b[39m \u001b[38;5;28mtuple\u001b[39m(ms[\u001b[38;5;124m\"\u001b[39m\u001b[38;5;124mSpaces\u001b[39m\u001b[38;5;124m\"\u001b[39m][x] \u001b[38;5;28;01mfor\u001b[39;00m x \u001b[38;5;129;01min\u001b[39;00m data[\u001b[38;5;124m\"\u001b[39m\u001b[38;5;124mdomain\u001b[39m\u001b[38;5;124m\"\u001b[39m])\n\u001b[1;32m     80\u001b[0m \u001b[38;5;66;03m# Build the policy object\u001b[39;00m\n",
      "\u001b[0;31mKeyError\u001b[0m: 'Mean Space'"
     ]
    }
   ],
   "source": [
    "import sys\n",
    "import os\n",
    "\n",
    "sys.path.append(os.path.abspath('..'))\n",
    "\n",
    "\n",
    "from math_spec_mapping import load_from_json, write_all_markdown_reports, write_spec_tree, write_overview\n",
    "\n",
    "\"\"\"# For development purposes\n",
    "sys.path.append(os.path.abspath('../..'))\n",
    "from MSML.src.math_spec_mapping import (load_from_json, write_all_markdown_reports, write_spec_tree, write_overview)\"\"\"\n",
    "\n",
    "from src import math_spec_json\n",
    "from copy import deepcopy\n",
    "ms = load_from_json(deepcopy(math_spec_json))"
   ]
  },
  {
   "cell_type": "markdown",
   "metadata": {},
   "source": [
    "## Obsidian Spec Writing\n",
    "\n",
    "- Given a folder specified in the `write_folder`, we will write a full obsidian vault\n",
    "- The `write_all_markdown_reports` function has an option of `clear_folders` which decides whether or not to delete any folders in there before running\n",
    "    - This might be turned off if you have a scaffold that you are iteratively overwriting as you create the MSML components\n",
    "- The `write_spec_tree` function creates a spec tree within the Obsidian respository and the `linking` determines whether wiki links should be added to components\n",
    "- The `write_overview` function writes out a README file with the specification tree by taking in the math spec object, a heading name for the repository, a path to write to, and finally a base folder for the base README (there is also an option to directly pass a string)."
   ]
  },
  {
   "cell_type": "code",
   "execution_count": 2,
   "metadata": {},
   "outputs": [],
   "source": [
    "write_folder = \"../reports/obsidian\"\n",
    "\n",
    "write_all_markdown_reports(ms, write_folder, clear_folders=True)\n",
    "write_spec_tree(ms, path=write_folder, linking=True)\n",
    "write_overview(ms, \"MSML Template\", \"../README.md\", base_folder=\"../README-Base.md\")"
   ]
  }
 ],
 "metadata": {
  "kernelspec": {
   "display_name": "Aztec",
   "language": "python",
   "name": "python3"
  },
  "language_info": {
   "codemirror_mode": {
    "name": "ipython",
    "version": 3
   },
   "file_extension": ".py",
   "mimetype": "text/x-python",
   "name": "python",
   "nbconvert_exporter": "python",
   "pygments_lexer": "ipython3",
   "version": "3.11.8"
  }
 },
 "nbformat": 4,
 "nbformat_minor": 2
}
