{
 "cells": [
  {
   "cell_type": "markdown",
   "metadata": {},
   "source": [
    "# Build Obsidian Notebook\n",
    "\n",
    "The following notebook is used to build out the Obsidian markdown files for easily visualizing and understanding the system and its linkages.\n",
    "\n",
    "## Load Functionalities\n",
    "\n",
    "- The code block below loads all necessary code\n",
    "- The appending of a path is for the path to the math_spec_json object. In this case it is a folder up because we call \"from src import math_spec_json\""
   ]
  },
  {
   "cell_type": "code",
   "execution_count": 1,
   "metadata": {},
   "outputs": [],
   "source": [
    "import sys\n",
    "import os\n",
    "\n",
    "sys.path.append(os.path.abspath('..'))\n",
    "\n",
    "\n",
    "from math_spec_mapping import load_from_json, write_all_markdown_reports, write_spec_tree, write_overview\n",
    "\n",
    "\"\"\"# For development purposes\n",
    "sys.path.append(os.path.abspath('../..'))\n",
    "from MSML.src.math_spec_mapping import (load_from_json, write_all_markdown_reports, write_spec_tree, write_overview)\"\"\"\n",
    "\n",
    "from src import math_spec_json\n",
    "from copy import deepcopy\n",
    "ms = load_from_json(deepcopy(math_spec_json))"
   ]
  },
  {
   "cell_type": "markdown",
   "metadata": {},
   "source": [
    "## Obsidian Spec Writing\n",
    "\n",
    "- Given a folder specified in the `write_folder`, we will write a full obsidian vault\n",
    "- The `write_all_markdown_reports` function has an option of `clear_folders` which decides whether or not to delete any folders in there before running\n",
    "    - This might be turned off if you have a scaffold that you are iteratively overwriting as you create the MSML components\n",
    "- The `write_spec_tree` function creates a spec tree within the Obsidian respository and the `linking` determines whether wiki links should be added to components\n",
    "- The `write_overview` function writes out a README file with the specification tree by taking in the math spec object, a heading name for the repository, a path to write to, and finally a base folder for the base README (there is also an option to directly pass a string)."
   ]
  },
  {
   "cell_type": "code",
   "execution_count": 2,
   "metadata": {},
   "outputs": [],
   "source": [
    "write_folder = \"../reports/obsidian\"\n",
    "\n",
    "write_all_markdown_reports(ms, write_folder, clear_folders=True)\n",
    "write_spec_tree(ms, path=write_folder, linking=True)\n",
    "write_overview(ms, \"MSML Template\", \"../README.md\", base_folder=\"../README-Base.md\")"
   ]
  }
 ],
 "metadata": {
  "kernelspec": {
   "display_name": "Aztec",
   "language": "python",
   "name": "python3"
  },
  "language_info": {
   "codemirror_mode": {
    "name": "ipython",
    "version": 3
   },
   "file_extension": ".py",
   "mimetype": "text/x-python",
   "name": "python",
   "nbconvert_exporter": "python",
   "pygments_lexer": "ipython3",
   "version": "3.11.8"
  }
 },
 "nbformat": 4,
 "nbformat_minor": 2
}
