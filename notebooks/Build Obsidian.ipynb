{
 "cells": [
  {
   "cell_type": "markdown",
   "metadata": {},
   "source": [
    "# Build Obsidian Notebook\n",
    "\n",
    "The following notebook is used to build out the Obsidian markdown files for easily visualizing and understanding the system and its linkages.\n",
    "\n",
    "## Load Functionalities\n",
    "\n",
    "- The code block below loads all necessary code\n",
    "- The appending of a path is for the path to the math_spec_json object. In this case it is a folder up because we call \"from src import math_spec_json\""
   ]
  },
  {
   "cell_type": "code",
   "execution_count": 1,
   "metadata": {},
   "outputs": [
    {
     "ename": "AssertionError",
     "evalue": "Sample Mean not found",
     "output_type": "error",
     "traceback": [
      "\u001b[0;31m---------------------------------------------------------------------------\u001b[0m",
      "\u001b[0;31mAssertionError\u001b[0m                            Traceback (most recent call last)",
      "Cell \u001b[0;32mIn[1], line 15\u001b[0m\n\u001b[1;32m     13\u001b[0m \u001b[38;5;28;01mfrom\u001b[39;00m \u001b[38;5;21;01msrc\u001b[39;00m \u001b[38;5;28;01mimport\u001b[39;00m math_spec_json\n\u001b[1;32m     14\u001b[0m \u001b[38;5;28;01mfrom\u001b[39;00m \u001b[38;5;21;01mcopy\u001b[39;00m \u001b[38;5;28;01mimport\u001b[39;00m deepcopy\n\u001b[0;32m---> 15\u001b[0m ms \u001b[38;5;241m=\u001b[39m load_from_json(deepcopy(math_spec_json))\n",
      "File \u001b[0;32m~/opt/anaconda3/envs/Aztec/lib/python3.11/site-packages/math_spec_mapping/Load/load.py:80\u001b[0m, in \u001b[0;36mload_from_json\u001b[0;34m(json)\u001b[0m\n\u001b[1;32m     77\u001b[0m \u001b[38;5;66;03m# Assert all keys are correct for the ms version\u001b[39;00m\n\u001b[1;32m     78\u001b[0m check_json_keys(ms, \u001b[38;5;124m\"\u001b[39m\u001b[38;5;124mMath Spec\u001b[39m\u001b[38;5;124m\"\u001b[39m)\n\u001b[0;32m---> 80\u001b[0m ms \u001b[38;5;241m=\u001b[39m MathSpec(ms, json)\n\u001b[1;32m     81\u001b[0m \u001b[38;5;28;01mreturn\u001b[39;00m ms\n",
      "File \u001b[0;32m~/opt/anaconda3/envs/Aztec/lib/python3.11/site-packages/math_spec_mapping/Classes/MathSpec.py:44\u001b[0m, in \u001b[0;36mMathSpec.__init__\u001b[0;34m(self, ms_dict, json)\u001b[0m\n\u001b[1;32m     41\u001b[0m     \u001b[38;5;28;01mfor\u001b[39;00m y \u001b[38;5;129;01min\u001b[39;00m \u001b[38;5;28mself\u001b[39m\u001b[38;5;241m.\u001b[39mstateful_metrics[x]\u001b[38;5;241m.\u001b[39mmetrics:\n\u001b[1;32m     42\u001b[0m         \u001b[38;5;28mself\u001b[39m\u001b[38;5;241m.\u001b[39mstateful_metrics_map[y\u001b[38;5;241m.\u001b[39mname] \u001b[38;5;241m=\u001b[39m y\n\u001b[0;32m---> 44\u001b[0m \u001b[38;5;28mself\u001b[39m\u001b[38;5;241m.\u001b[39m_check_parameters()\n\u001b[1;32m     45\u001b[0m \u001b[38;5;28mself\u001b[39m\u001b[38;5;241m.\u001b[39m_crawl_parameters()\n\u001b[1;32m     46\u001b[0m \u001b[38;5;28mself\u001b[39m\u001b[38;5;241m.\u001b[39m_crawl_parameters_exploded()\n",
      "File \u001b[0;32m~/opt/anaconda3/envs/Aztec/lib/python3.11/site-packages/math_spec_mapping/Classes/MathSpec.py:74\u001b[0m, in \u001b[0;36mMathSpec._check_parameters\u001b[0;34m(self)\u001b[0m\n\u001b[1;32m     72\u001b[0m \u001b[38;5;28;01mfor\u001b[39;00m ca \u001b[38;5;129;01min\u001b[39;00m \u001b[38;5;28mself\u001b[39m\u001b[38;5;241m.\u001b[39mcontrol_actions\u001b[38;5;241m.\u001b[39mvalues():\n\u001b[1;32m     73\u001b[0m     \u001b[38;5;28;01mfor\u001b[39;00m param \u001b[38;5;129;01min\u001b[39;00m ca\u001b[38;5;241m.\u001b[39mparameters_used:\n\u001b[0;32m---> 74\u001b[0m         \u001b[38;5;28;01massert\u001b[39;00m param \u001b[38;5;129;01min\u001b[39;00m \u001b[38;5;28mself\u001b[39m\u001b[38;5;241m.\u001b[39mparameters\u001b[38;5;241m.\u001b[39mall_parameters, \u001b[38;5;124m\"\u001b[39m\u001b[38;5;132;01m{}\u001b[39;00m\u001b[38;5;124m not found\u001b[39m\u001b[38;5;124m\"\u001b[39m\u001b[38;5;241m.\u001b[39mformat(\n\u001b[1;32m     75\u001b[0m             param\n\u001b[1;32m     76\u001b[0m         )\n\u001b[1;32m     78\u001b[0m \u001b[38;5;28;01mfor\u001b[39;00m p \u001b[38;5;129;01min\u001b[39;00m \u001b[38;5;28mself\u001b[39m\u001b[38;5;241m.\u001b[39mpolicies\u001b[38;5;241m.\u001b[39mvalues():\n\u001b[1;32m     79\u001b[0m     \u001b[38;5;28;01mfor\u001b[39;00m param \u001b[38;5;129;01min\u001b[39;00m p\u001b[38;5;241m.\u001b[39mparameters_used:\n",
      "\u001b[0;31mAssertionError\u001b[0m: Sample Mean not found"
     ]
    }
   ],
   "source": [
    "import sys\n",
    "import os\n",
    "\n",
    "sys.path.append(os.path.abspath('..'))\n",
    "\n",
    "\n",
    "from math_spec_mapping import load_from_json, write_all_markdown_reports, write_spec_tree, write_overview\n",
    "\n",
    "\"\"\"# For development purposes\n",
    "sys.path.append(os.path.abspath('../..'))\n",
    "from MSML.src.math_spec_mapping import (load_from_json, write_all_markdown_reports, write_spec_tree, write_overview)\"\"\"\n",
    "\n",
    "from src import math_spec_json\n",
    "from copy import deepcopy\n",
    "ms = load_from_json(deepcopy(math_spec_json))\n",
    "\n",
    "\n",
    "\n"
   ]
  },
  {
   "cell_type": "markdown",
   "metadata": {},
   "source": [
    "## Obsidian Spec Writing\n",
    "\n",
    "- Given a folder specified in the `write_folder`, we will write a full obsidian vault\n",
    "- The `write_all_markdown_reports` function has an option of `clear_folders` which decides whether or not to delete any folders in there before running\n",
    "    - This might be turned off if you have a scaffold that you are iteratively overwriting as you create the MSML components\n",
    "- The `write_spec_tree` function creates a spec tree within the Obsidian respository and the `linking` determines whether wiki links should be added to components\n",
    "- The `write_overview` function writes out a README file with the specification tree by taking in the math spec object, a heading name for the repository, a path to write to, and finally a base folder for the base README (there is also an option to directly pass a string)."
   ]
  },
  {
   "cell_type": "code",
   "execution_count": 2,
   "metadata": {},
   "outputs": [],
   "source": [
    "write_folder = \"../reports/obsidian\"\n",
    "\n",
    "write_all_markdown_reports(ms, write_folder, clear_folders=True)\n",
    "write_spec_tree(ms, path=write_folder, linking=True)\n",
    "write_overview(ms, \"MSML Template\", \"../README.md\", base_folder=\"../README-Base.md\")"
   ]
  }
 ],
 "metadata": {
  "kernelspec": {
   "display_name": "Aztec",
   "language": "python",
   "name": "python3"
  },
  "language_info": {
   "codemirror_mode": {
    "name": "ipython",
    "version": 3
   },
   "file_extension": ".py",
   "mimetype": "text/x-python",
   "name": "python",
   "nbconvert_exporter": "python",
   "pygments_lexer": "ipython3",
   "version": "3.11.8"
  }
 },
 "nbformat": 4,
 "nbformat_minor": 2
}
